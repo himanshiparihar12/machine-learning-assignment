{
 "cells": [
  {
   "cell_type": "code",
   "execution_count": 1,
   "id": "f3a3d2f5",
   "metadata": {},
   "outputs": [],
   "source": [
    "#WRITE STATEMENT TO IMPORT NUMPY\n",
    "import numpy as np"
   ]
  },
  {
   "cell_type": "code",
   "execution_count": 3,
   "id": "307ce4c2",
   "metadata": {},
   "outputs": [],
   "source": [
    "#CREATE AN ARRAY USISNG NUMPY\n",
    "a=np.array([])"
   ]
  },
  {
   "cell_type": "code",
   "execution_count": 4,
   "id": "0136f55c",
   "metadata": {},
   "outputs": [],
   "source": [
    "#CREATE AN ARRAY OF ELEMENTS FROM 10-20\n",
    "a=np.array([10,11,12,13,14,15,16,17,18,19,20])"
   ]
  },
  {
   "cell_type": "code",
   "execution_count": 31,
   "id": "91c22d8d",
   "metadata": {},
   "outputs": [
    {
     "data": {
      "text/plain": [
       "array([5, 5, 5, 5, 5, 5, 5, 5, 5, 5])"
      ]
     },
     "execution_count": 31,
     "metadata": {},
     "output_type": "execute_result"
    }
   ],
   "source": [
    "#CREATE AN ARRAY WHICH CONTAINS VALUE 5, 10 TIMES\n",
    "a=np.random.randint(5,6,10)\n",
    "a"
   ]
  },
  {
   "cell_type": "code",
   "execution_count": 24,
   "id": "4f311f42",
   "metadata": {},
   "outputs": [
    {
     "data": {
      "text/plain": [
       "array([[9, 4, 6],\n",
       "       [6, 6, 9],\n",
       "       [6, 2, 7]])"
      ]
     },
     "execution_count": 24,
     "metadata": {},
     "output_type": "execute_result"
    }
   ],
   "source": [
    "#CREATE A ONE DIMENSIONAL ARRAY AND CONVERT THAT INTO 3*3 MATRIX\n",
    "import numpy as np\n",
    "a=np.random.randint(1,10,9)\n",
    "a=a.reshape(3,3)\n",
    "a"
   ]
  },
  {
   "cell_type": "code",
   "execution_count": 27,
   "id": "5930d3aa",
   "metadata": {},
   "outputs": [
    {
     "data": {
      "text/plain": [
       "array([[0.66092751, 0.81861548, 0.02878505],\n",
       "       [0.76296548, 0.48667605, 0.32122356],\n",
       "       [0.69794461, 0.37046087, 0.47619035]])"
      ]
     },
     "execution_count": 27,
     "metadata": {},
     "output_type": "execute_result"
    }
   ],
   "source": [
    "#create 2-D array of size 3*3 but all the elements sholud be between 0 to 1\n",
    "import numpy as np\n",
    "a=np.random.rand(9)\n",
    "a=a.reshape(3,3)\n",
    "a"
   ]
  },
  {
   "cell_type": "code",
   "execution_count": 37,
   "id": "0d050637",
   "metadata": {},
   "outputs": [
    {
     "data": {
      "text/plain": [
       "array([[14],\n",
       "       [ 1],\n",
       "       [11],\n",
       "       [12],\n",
       "       [21],\n",
       "       [13],\n",
       "       [ 5],\n",
       "       [ 8],\n",
       "       [17]])"
      ]
     },
     "execution_count": 37,
     "metadata": {},
     "output_type": "execute_result"
    }
   ],
   "source": [
    "#concatenate 2D array horizontal and vertically\n",
    "import numpy as np\n",
    "a=np.random.randint(1,25,9)\n",
    "a.reshape(3,3)\n",
    "np.vstack(a)"
   ]
  },
  {
   "cell_type": "code",
   "execution_count": 39,
   "id": "9cbf7f0d",
   "metadata": {},
   "outputs": [
    {
     "data": {
      "text/plain": [
       "array([20, 17, 11, 19, 23, 13, 18,  4, 13])"
      ]
     },
     "execution_count": 39,
     "metadata": {},
     "output_type": "execute_result"
    }
   ],
   "source": [
    "import numpy as np\n",
    "a=np.random.randint(1,25,9)\n",
    "a.reshape(3,3)\n",
    "np.hstack(a)"
   ]
  },
  {
   "cell_type": "code",
   "execution_count": null,
   "id": "0d39394e",
   "metadata": {},
   "outputs": [],
   "source": []
  }
 ],
 "metadata": {
  "kernelspec": {
   "display_name": "Python 3",
   "language": "python",
   "name": "python3"
  },
  "language_info": {
   "codemirror_mode": {
    "name": "ipython",
    "version": 3
   },
   "file_extension": ".py",
   "mimetype": "text/x-python",
   "name": "python",
   "nbconvert_exporter": "python",
   "pygments_lexer": "ipython3",
   "version": "3.8.8"
  }
 },
 "nbformat": 4,
 "nbformat_minor": 5
}
