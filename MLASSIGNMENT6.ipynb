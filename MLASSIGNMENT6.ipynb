{
 "cells": [
  {
   "cell_type": "code",
   "execution_count": 1,
   "id": "048eee9a",
   "metadata": {},
   "outputs": [],
   "source": [
    "#difference between machine learning nd deep learning\n",
    "->MACHINE LEARNING \n",
    ":-Machine Learning is a superset of Deep Learning\n",
    ":-The data represented in Machine Learning is quite\n",
    "    different compared to Deep Learning as it uses structured data\n",
    ":-Machine learning is used for a wide range of applications, \n",
    "    such as regression, classification, and clustering. \n",
    ":- Machine learning algorithms can range from simple linear models\n",
    "    to more complex models such as decision trees and random forests\n",
    "    \n",
    "->DEEP LEARNING\n",
    ":-Deep Learning is a subset of Machine Learning\n",
    ":-The data representation used in Deep Learning \n",
    "    is quite different as it uses neural networks(ANN).\n",
    ":Deep learning, on the other hand, is mostly used for complex tasks \n",
    "    such as image and speech recognition, natural language processing, \n",
    "    and autonomous systems.\n",
    ":-Deep learning algorithms, on the other hand, are based on \n",
    "    artificial neural networks that consist of multiple layers and nodes."
   ]
  },
  {
   "cell_type": "code",
   "execution_count": 3,
   "id": "3d8d10fd",
   "metadata": {},
   "outputs": [],
   "source": [
    "#why we use optimizers in machine learning nd deep learning\n",
    "An optimizer is a function or an algorithm that adjusts the attributes of\n",
    "the neural network, such as weights and learning rates. \n",
    "Thus, it helps in reducing the overall loss and improving accuracy."
   ]
  },
  {
   "cell_type": "code",
   "execution_count": 4,
   "id": "0b19ccd8",
   "metadata": {},
   "outputs": [],
   "source": [
    "# what does activtion function in deep learing\n",
    " An activation function determines the range of values of activation of an artificial neuron. \n",
    "    This is applied to the sum of the weighted input data of the neuron.\n",
    "    An activation function is characterized by the property of non-linearity."
   ]
  },
  {
   "cell_type": "code",
   "execution_count": 5,
   "id": "e3779c0c",
   "metadata": {},
   "outputs": [],
   "source": [
    "#what is loss function and when we use binary categorical cross entropy , mean square error , \n",
    "#sparce categorical cross entropy , mean absolute error\n",
    "->LOSS FUNCTION\n",
    ":-A loss function (also known as a cost function or objective function)\n",
    "    quantifies the discrepancy between predicted values and actual (ground truth) values.\n",
    "    \n",
    "->BINARY CROSS FUNCTION\n",
    ":- Measures the dissimilarity between predicted probabilities and true binary labels.\n",
    "Use Case: Binary classification (two classes: 0 or 1).\n",
    "Penalizes confident wrong predictions.\n",
    "Mean Squared Error (MSE): Calculates the average squared difference between\n",
    "    predicted and actual values.\n",
    "Use Case: Regression tasks where the goal is to predict continuous \n",
    "    values (e.g., house prices, temperature).\n",
    "Sensitive to outliers due to squaring.\n",
    "\n",
    "->Mean Absolute Error (MAE)\n",
    ":- Computes the average absolute difference between predicted and actual values.\n",
    "Use Case: Similar to MSE, for regression tasks.\n",
    "Less sensitive to outliers than MSE.\n",
    "\n",
    "->Categorical Cross-Entropy\n",
    ":- Compares predicted class probabilities to true class probabilities.\n",
    "Use Case: Multiclass classification with one-hot encoded labels.\n",
    "\n",
    "\n",
    "->Sparse Categorical Cross-Entropy\n",
    ":- Similar to categorical cross-entropy but expects integer targets.\n",
    "Use Case: Multiclass classification with integer-encoded labels."
   ]
  },
  {
   "cell_type": "code",
   "execution_count": 6,
   "id": "34bff93d",
   "metadata": {},
   "outputs": [],
   "source": [
    "# what does dense layer and why it is considereed as fully connected layer.\n",
    "A dense layer, also known as a fully connected layer, is a fundamental \n",
    "component of neural networks where each neuron is connected to every neuron \n",
    "in the previous and next layers. This means that the output of each neuron in the\n",
    "dense layer is calculated as a weighted sum of all inputs from the previous layer,\n",
    "plus a bias term, followed by the application of an activation function. Dense layers\n",
    "are crucial for combining features learned by previous layers, enabling the model to\n",
    "capture complex patterns and relationships in the data. They are considered fully connected\n",
    "because the neurons are interconnected with all neurons from the preceding layer, ensuring\n",
    "maximum information flow and integration across the network. This dense connectivity allows \n",
    "the network to learn global patterns that contribute to making\n",
    "accurate predictions and solving a wide range of machine learning tasks."
   ]
  },
  {
   "cell_type": "code",
   "execution_count": 7,
   "id": "1d30d45b",
   "metadata": {},
   "outputs": [],
   "source": [
    "# what is difference between cnn and ann.\n",
    "->CNN\n",
    ":-Convolutional neural networks (CNN) are one of the most popular models used today.\n",
    ":-In CNN Image Data is used.\n",
    ":-CNN is considered to be more powerful than ANN.\n",
    ":-Application of CNN is Facial recognition, text digitization and Natural language processing.\n",
    ":-Advantage of CNN is High accuracy in image recognition problems, Weight sharing.\n",
    "\n",
    "    \n",
    "->ANN\n",
    ":-Artificial Neural Network (ANN), is a group of multiple perceptrons or neurons at each layer.\n",
    ":-In ANN Tabular Data, Text Data is used.\n",
    ":-ANN is considered to be less powerful than CNN.\n",
    ":-Application of ANN is Facial recognition and Computer vision.\n",
    ":-Advantage of ANN is Having fault tolerance, Ability to work with incomplete knowledge."
   ]
  },
  {
   "cell_type": "code",
   "execution_count": 8,
   "id": "c289052b",
   "metadata": {},
   "outputs": [],
   "source": [
    "# what is tree trained model in cnn.\n",
    "-> It is similar to a tree structural with branches and leaves. Every branch represents a set \n",
    "of convolutional layers that process a coarse category, and every leaf represents a fine category \n",
    "which is locating in the aftermost branch."
   ]
  },
  {
   "cell_type": "code",
   "execution_count": null,
   "id": "0a07af74",
   "metadata": {},
   "outputs": [],
   "source": [
    "# what is stride and padded in cnn \n",
    "->STRIDE IN CNN\n",
    ":-Stride determines how many squares or pixels\n",
    "    our filters skip when they move across the image, \n",
    "    from left to right and from top to bottom\n",
    "    \n",
    "->PADDING IN CNN\n",
    ":-Padding in CNN refers to the addition of extra pixels\n",
    "    around the borders of the input images or feature map."
   ]
  }
 ],
 "metadata": {
  "kernelspec": {
   "display_name": "Python 3",
   "language": "python",
   "name": "python3"
  },
  "language_info": {
   "codemirror_mode": {
    "name": "ipython",
    "version": 3
   },
   "file_extension": ".py",
   "mimetype": "text/x-python",
   "name": "python",
   "nbconvert_exporter": "python",
   "pygments_lexer": "ipython3",
   "version": "3.8.8"
  }
 },
 "nbformat": 4,
 "nbformat_minor": 5
}
